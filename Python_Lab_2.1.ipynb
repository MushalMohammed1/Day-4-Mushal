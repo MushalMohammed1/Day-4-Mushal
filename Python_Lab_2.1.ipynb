{
 "cells": [
  {
   "cell_type": "markdown",
   "metadata": {
    "id": "x7F-mxeubDUG"
   },
   "source": [
    "# Python_Lab_2.1\n"
   ]
  },
  {
   "cell_type": "markdown",
   "metadata": {
    "id": "14c6Hn1BbDUH"
   },
   "source": [
    "### Task 1\n",
    "1. Write a function named is_prime that takes a number as a parameter and returns True if the number is prime and False otherwise. Print whether the number 29 is prime."
   ]
  },
  {
   "cell_type": "code",
   "execution_count": 1,
   "metadata": {
    "id": "5e_MZEN0bDUI"
   },
   "outputs": [
    {
     "name": "stdout",
     "output_type": "stream",
     "text": [
      "Is 29 prime? True\n"
     ]
    }
   ],
   "source": [
    "def is_prime(number):\n",
    "    if number > 1:\n",
    "        for i in range(2, int(number**0.5) + 1):\n",
    "            if number % i == 0:\n",
    "                return False\n",
    "        return True\n",
    "    return False\n",
    "\n",
    "# Test the function with the number 29\n",
    "number_to_test = 29\n",
    "print(f\"Is {number_to_test} prime? {is_prime(number_to_test)}\")"
   ]
  },
  {
   "cell_type": "markdown",
   "metadata": {
    "id": "2zKG8ZcybDUI"
   },
   "source": [
    "### Task 2\n",
    "1. Create a list of 10 numbers and sort them in descending order using the sort() function.\n",
    "2. Use the len() function to print the length of the sorted list.\n",
    "3. Use the zip() function to combine three lists (names, ages, and cities) into a list of tuples.\n",
    "4. Use the range() function to create a list of even numbers from 2 to 20 and print the list."
   ]
  },
  {
   "cell_type": "code",
   "execution_count": 3,
   "metadata": {
    "id": "yyoe__M_bDUI"
   },
   "outputs": [
    {
     "name": "stdout",
     "output_type": "stream",
     "text": [
      "Sorted list in descending order: [25, 19, 15, 12, 8, 7, 5, 4, 3, 1]\n",
      "Length of the sorted list: 10\n",
      "List of tuples (names, ages, cities): [('Ali', 12, 'Riyadh'), ('Mushal', 30, 'Onizah'), ('Mohammed', 40, 'Makkah')]\n",
      "List of even numbers from 2 to 20: [2, 4, 6, 8, 10, 12, 14, 16, 18, 20]\n"
     ]
    }
   ],
   "source": [
    "# 1. Create a list of 10 numbers and sort them in descending order\n",
    "numbers = [5, 12, 3, 19, 7, 1, 25, 8, 15, 4]\n",
    "numbers.sort(reverse=True)\n",
    "print(\"Sorted list in descending order:\", numbers)\n",
    "\n",
    "# 2. Use the len() function to print the length of the sorted list\n",
    "print(\"Length of the sorted list:\", len(numbers))\n",
    "\n",
    "# 3. Use the zip() function to combine three lists into a list of tuples\n",
    "names = [\"Ali\", \"Mushal\", \"Mohammed\"]\n",
    "ages = [12, 30, 40]\n",
    "cities = [\"Riyadh\", \"Onizah\", \"Makkah\"]\n",
    "combined = list(zip(names, ages, cities))\n",
    "print(\"List of tuples (names, ages, cities):\", combined)\n",
    "\n",
    "# 4. Use the range() function to create a list of even numbers from 2 to 20 and print the list\n",
    "even_numbers = list(range(2, 21, 2))\n",
    "print(\"List of even numbers from 2 to 20:\", even_numbers)"
   ]
  },
  {
   "cell_type": "markdown",
   "metadata": {
    "id": "aStW5p7AbDUI"
   },
   "source": [
    "### Task 3\n",
    "Build a phone book program that receives the phone number, and returns the name of the owner.\n",
    "You can follow the table below:\n",
    "\n",
    "| Name     | Number     |\n",
    "| -------- | ---------- |\n",
    "| Amal     | 1111111111 |\n",
    "| Mohammed | 2222222222 |\n",
    "| Khadijah | 3333333333 |\n",
    "| Abdullah | 4444444444 |\n",
    "| Rawan    | 5555555555 |\n",
    "| Faisal   | 6666666666 |\n",
    "| Layla    | 7777777777 |\n",
    "\n",
    "- If the number exists, print the owner. Otherwise, print \"Sorry, the number is not found\".\n",
    "- If the number is less or more than 10 numbers, print \"This is invalid number\".\n",
    "- If the number contains letters or symbols, print \"This is invalid number\".\n"
   ]
  },
  {
   "cell_type": "code",
   "execution_count": 7,
   "metadata": {
    "id": "kvXmjUe-bDUJ"
   },
   "outputs": [
    {
     "name": "stdout",
     "output_type": "stream",
     "text": [
      "This is an invalid number\n"
     ]
    }
   ],
   "source": [
    "# Phone book dictionary\n",
    "phone_book = {\n",
    "    \"1111111111\": \"Amal\",\n",
    "    \"2222222222\": \"Mohammed\",\n",
    "    \"3333333333\": \"Khadijah\",\n",
    "    \"4444444444\": \"Abdullah\",\n",
    "    \"5555555555\": \"Rawan\",\n",
    "    \"6666666666\": \"Faisal\",\n",
    "    \"7777777777\": \"Layla\"\n",
    "}\n",
    "\n",
    "# Function to check the phone number\n",
    "def find_owner(phone_number):\n",
    "    if not phone_number.isdigit():  # Check if the input contains only digits\n",
    "        print(\"This is an invalid number\")\n",
    "    elif len(phone_number) != 10:  # Check if the number has exactly 10 digits\n",
    "        print(\"This is an invalid number\")\n",
    "    elif phone_number in phone_book:  # Check if the number exists in the phone book\n",
    "        print(phone_book[phone_number])\n",
    "    else:\n",
    "        print(\"Sorry, the number is not found\")\n",
    "\n",
    "# Test the function\n",
    "phone_number = input(\"Enter a phone number: \")\n",
    "find_owner(phone_number)"
   ]
  },
  {
   "cell_type": "markdown",
   "metadata": {
    "id": "exLHQ28nbDUJ"
   },
   "source": [
    "### Task 4\n",
    "- Given the following list : [5, 4, 17, 19, 30, 2, 7, 10, 45]\n",
    "    1. Use a lambda function to filter out only the odd numbers.\n",
    "    2. Print the new list of odd numbers."
   ]
  },
  {
   "cell_type": "code",
   "execution_count": 8,
   "metadata": {
    "id": "64SUsh1cbDUJ"
   },
   "outputs": [
    {
     "name": "stdout",
     "output_type": "stream",
     "text": [
      "[5, 17, 19, 7, 45]\n"
     ]
    }
   ],
   "source": [
    "# Given list\n",
    "numbers = [5, 4, 17, 19, 30, 2, 7, 10, 45]\n",
    "\n",
    "# Use a lambda function to filter out odd numbers\n",
    "odd_numbers = list(filter(lambda x: x % 2 != 0, numbers))\n",
    "\n",
    "# Print the new list of odd numbers\n",
    "print(odd_numbers)"
   ]
  }
 ],
 "metadata": {
  "colab": {
   "provenance": []
  },
  "kernelspec": {
   "display_name": "Python 3",
   "language": "python",
   "name": "python3"
  },
  "language_info": {
   "codemirror_mode": {
    "name": "ipython",
    "version": 3
   },
   "file_extension": ".py",
   "mimetype": "text/x-python",
   "name": "python",
   "nbconvert_exporter": "python",
   "pygments_lexer": "ipython3",
   "version": "3.11.1"
  }
 },
 "nbformat": 4,
 "nbformat_minor": 0
}
