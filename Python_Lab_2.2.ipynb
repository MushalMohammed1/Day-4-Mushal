{
 "cells": [
  {
   "cell_type": "markdown",
   "metadata": {
    "id": "E9Y5ss1ZYj3r"
   },
   "source": [
    "# Python_Lab_2.2\n"
   ]
  },
  {
   "cell_type": "markdown",
   "metadata": {
    "id": "Q1kAqc72Yj3t"
   },
   "source": [
    "### Task 1\n",
    "1. Write a program that prompts the user to enter two numbers and prints their division. Handle cases where the user enters non-numeric values or attempts to divide by zero using a try-except block.\n"
   ]
  },
  {
   "cell_type": "code",
   "execution_count": 3,
   "metadata": {
    "id": "H-xyoRTVYj3t"
   },
   "outputs": [
    {
     "name": "stdout",
     "output_type": "stream",
     "text": [
      "The result of 10.0 divided by 2.0 is: 5.0\n"
     ]
    }
   ],
   "source": [
    "def divide_numbers():\n",
    "    try:\n",
    "        # Prompt the user to enter two numbers\n",
    "        num1 = float(input(\"Enter the first number: \"))\n",
    "        num2 = float(input(\"Enter the second number: \"))\n",
    "\n",
    "        # Perform division\n",
    "        result = num1 / num2\n",
    "\n",
    "        # Print the result\n",
    "        print(f\"The result of {num1} divided by {num2} is: {result}\")\n",
    "\n",
    "    except ValueError:\n",
    "        # Handle non-numeric input\n",
    "        print(\"Error: Please enter valid numeric values.\")\n",
    "\n",
    "    except ZeroDivisionError:\n",
    "        # Handle division by zero\n",
    "        print(\"Error: Division by zero is not allowed.\")\n",
    "\n",
    "# Call the function\n",
    "divide_numbers()"
   ]
  },
  {
   "cell_type": "markdown",
   "metadata": {
    "id": "CPWcDSC_Yj3u"
   },
   "source": [
    "### Task 2\n",
    "- Use \"Random\" library to do the following:\n",
    "    1. Create a list of random numbers using list comprehension.\n",
    "    2. Create a list of squares of the even numbers from random numbers using list comprehension.\n",
    "    3. Create a list of tuples (number, square) for random numbers using list comprehension."
   ]
  },
  {
   "cell_type": "code",
   "execution_count": 4,
   "metadata": {
    "id": "Yfq-i6CeYj3u"
   },
   "outputs": [
    {
     "name": "stdout",
     "output_type": "stream",
     "text": [
      "Random Numbers: [65, 32, 35, 24, 62, 73, 57, 98, 85, 64]\n",
      "Squares of Even Numbers: [1024, 576, 3844, 9604, 4096]\n",
      "Tuples (Number, Square): [(65, 4225), (32, 1024), (35, 1225), (24, 576), (62, 3844), (73, 5329), (57, 3249), (98, 9604), (85, 7225), (64, 4096)]\n"
     ]
    }
   ],
   "source": [
    "import random\n",
    "\n",
    "# 1. Create a list of random numbers using list comprehension\n",
    "random_numbers = [random.randint(1, 100) for _ in range(10)]  # Generate 10 random numbers between 1 and 100\n",
    "\n",
    "# 2. Create a list of squares of the even numbers from random numbers using list comprehension\n",
    "even_squares = [x**2 for x in random_numbers if x % 2 == 0]\n",
    "\n",
    "# 3. Create a list of tuples (number, square) for random numbers using list comprehension\n",
    "number_square_tuples = [(x, x**2) for x in random_numbers]\n",
    "\n",
    "# Print the results\n",
    "print(\"Random Numbers:\", random_numbers)\n",
    "print(\"Squares of Even Numbers:\", even_squares)\n",
    "print(\"Tuples (Number, Square):\", number_square_tuples)"
   ]
  },
  {
   "cell_type": "markdown",
   "metadata": {
    "id": "jYdOq46NYj3u"
   },
   "source": [
    "### Task 3\n",
    "- Create a dictionary where the keys are numbers from 1 to 5 and the values are list of their squares and cubes.\n",
    "\n",
    "  - **hint**: use dictionary of list comprehension.\n",
    "\n",
    "- Create a dictionary from two lists (one with keys and one with values) using dictionary comprehension.\n",
    "\n"
   ]
  },
  {
   "cell_type": "code",
   "execution_count": 5,
   "metadata": {
    "id": "IEnsiNmCYj3u"
   },
   "outputs": [
    {
     "name": "stdout",
     "output_type": "stream",
     "text": [
      "Dictionary with squares and cubes: {1: [1, 1], 2: [4, 8], 3: [9, 27], 4: [16, 64], 5: [25, 125]}\n"
     ]
    }
   ],
   "source": [
    "# Dictionary comprehension to create {key: [square, cube]}\n",
    "squares_cubes_dict = {num: [num**2, num**3] for num in range(1, 6)}\n",
    "\n",
    "# Print the dictionary\n",
    "print(\"Dictionary with squares and cubes:\", squares_cubes_dict)"
   ]
  },
  {
   "cell_type": "code",
   "execution_count": 6,
   "metadata": {},
   "outputs": [
    {
     "name": "stdout",
     "output_type": "stream",
     "text": [
      "Dictionary from two lists: {'a': 10, 'b': 20, 'c': 30, 'd': 40}\n"
     ]
    }
   ],
   "source": [
    "# Two lists: one for keys and one for values\n",
    "keys = ['a', 'b', 'c', 'd']\n",
    "values = [10, 20, 30, 40]\n",
    "\n",
    "# Dictionary comprehension to create {key: value}\n",
    "dict_from_lists = {k: v for k, v in zip(keys, values)}\n",
    "\n",
    "# Print the dictionary\n",
    "print(\"Dictionary from two lists:\", dict_from_lists)"
   ]
  },
  {
   "cell_type": "markdown",
   "metadata": {
    "id": "6T9TCQ8SYj3v"
   },
   "source": [
    "### Task 4\n",
    "- Given a dictionary where keys are student names and values are lists of their scores, write a function that updates the scores of students who have achieved a perfect score (100) by adding a bonus of 5 points to each score. Use dictionary comprehension to achieve this.\n",
    "\n",
    "    - Implement the function add_bonus_to_perfect_scores(student_scores) that adds a bonus of 5 points to each score of students who have achieved a perfect score (100)."
   ]
  },
  {
   "cell_type": "code",
   "execution_count": 7,
   "metadata": {
    "id": "T3R_VsQpYj3v"
   },
   "outputs": [
    {
     "name": "stdout",
     "output_type": "stream",
     "text": [
      "Updated Scores: {'Ali': [95, 105, 88], 'Fahad': [70, 105, 105], 'Salman': [105, 85, 90], 'Omar': [80, 90, 105]}\n"
     ]
    }
   ],
   "source": [
    "def add_bonus_to_perfect_scores(student_scores):\n",
    "    # Use dictionary comprehension to update scores for students with perfect scores\n",
    "    updated_scores = {\n",
    "        student: [score + 5 if score == 100 else score for score in scores]\n",
    "        for student, scores in student_scores.items()\n",
    "    }\n",
    "    return updated_scores\n",
    "\n",
    "# Example usage\n",
    "student_scores = {\n",
    "    \"Ali\": [95, 100, 88],\n",
    "    \"Fahad\": [70, 100, 100],\n",
    "    \"Salman\": [100, 85, 90],\n",
    "    \"Omar\": [80, 90, 100]\n",
    "}\n",
    "\n",
    "# Update scores\n",
    "updated_scores = add_bonus_to_perfect_scores(student_scores)\n",
    "\n",
    "# Print the updated scores\n",
    "print(\"Updated Scores:\", updated_scores)"
   ]
  },
  {
   "cell_type": "markdown",
   "metadata": {
    "id": "rJkOEFAwYj3v"
   },
   "source": []
  }
 ],
 "metadata": {
  "colab": {
   "provenance": []
  },
  "kernelspec": {
   "display_name": "Python 3",
   "language": "python",
   "name": "python3"
  },
  "language_info": {
   "codemirror_mode": {
    "name": "ipython",
    "version": 3
   },
   "file_extension": ".py",
   "mimetype": "text/x-python",
   "name": "python",
   "nbconvert_exporter": "python",
   "pygments_lexer": "ipython3",
   "version": "3.11.1"
  }
 },
 "nbformat": 4,
 "nbformat_minor": 0
}
